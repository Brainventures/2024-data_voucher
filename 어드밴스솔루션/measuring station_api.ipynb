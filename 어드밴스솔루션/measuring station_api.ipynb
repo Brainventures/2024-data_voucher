{
 "cells": [
  {
   "cell_type": "code",
   "execution_count": 30,
   "id": "f4298f82",
   "metadata": {},
   "outputs": [],
   "source": [
    "import requests\n",
    "\n",
    "# 측정소 정보 조회\n",
    "url_base = 'http://apis.data.go.kr/B552584/MsrstnInfoInqireSvc/getMsrstnList'\n",
    "url = url_base \n",
    "api_key_utf8 = '%2FjEMJvdXRrLVtFtwr%2BU8UCwlaDibJ70XI3tSO1WAiv2aNo%2BJgK7wpWlQOc7J4zh70e41x%2FQREMkSqHIJDzq9nw%3D%3D'\n",
    "api_key_decode = requests.utils.unquote(api_key_utf8, encoding='utf-8')\n",
    "\n",
    "# 오늘 날짜로 검색\n",
    "search_date = '2024-04-04',\n",
    "params = {\n",
    "    'serviceKey' : api_key_decode,\n",
    "    'returnType' : 'xml',\n",
    "    'numOfRows' : 100,\n",
    "    'pageNo' : 1,\n",
    "    'addr' : '서울',\n",
    "    'stationName' : '마포구',\n",
    "    'ver' : '1.1'\n",
    "}\n",
    "response = requests.get(url, params=params)"
   ]
  },
  {
   "cell_type": "code",
   "execution_count": 31,
   "id": "545e9fe8",
   "metadata": {},
   "outputs": [
    {
     "name": "stdout",
     "output_type": "stream",
     "text": [
      "<Response [200]>\n"
     ]
    }
   ],
   "source": [
    "print(response)"
   ]
  },
  {
   "cell_type": "code",
   "execution_count": 32,
   "id": "2dd30e96",
   "metadata": {},
   "outputs": [
    {
     "name": "stdout",
     "output_type": "stream",
     "text": [
      "<?xml version=\"1.0\" encoding=\"UTF-8\"?>\r\n",
      "<response>\n",
      "  <header>\n",
      "    <resultCode>00</resultCode>\n",
      "    <resultMsg>NORMAL_CODE</resultMsg>\n",
      "  </header>\n",
      "  <body>\n",
      "    <items>\n",
      "      <item>\n",
      "        <dmX>126.905457</dmX>\n",
      "        <stationCode>111201</stationCode>\n",
      "        <item>SO2, CO, O3, NO2, PM10, PM2.5</item>\n",
      "        <mangName>도시대기</mangName>\n",
      "        <year>1979</year>\n",
      "        <addr>서울 마포구 포은로 6길 10 망원1동주민센터 옥상</addr>\n",
      "        <stationName>마포구</stationName>\n",
      "        <dmY>37.55561</dmY>\n",
      "      </item>\n",
      "    </items>\n",
      "    <numOfRows>100</numOfRows>\n",
      "    <pageNo>1</pageNo>\n",
      "    <totalCount>1</totalCount>\n",
      "  </body>\n",
      "</response>\n"
     ]
    }
   ],
   "source": [
    "print(response.text)"
   ]
  },
  {
   "cell_type": "code",
   "execution_count": 33,
   "id": "1834cb6c",
   "metadata": {},
   "outputs": [
    {
     "name": "stdout",
     "output_type": "stream",
     "text": [
      "<?xml version=\"1.0\" encoding=\"UTF-8\"?>\r\n",
      "<response>\n",
      "  <header>\n",
      "    <resultCode>00</resultCode>\n",
      "    <resultMsg>NORMAL_CODE</resultMsg>\n",
      "  </header>\n",
      "  <body>\n",
      "    <items>\n",
      "      <item>\n",
      "        <dmX>126.905457</dmX>\n",
      "        <stationCode>111201</stationCode>\n",
      "        <item>SO2, CO, O3, NO2, PM10, PM2.5</item>\n",
      "        <mangName>도시대기</mangName>\n",
      "        <year>1979</year>\n",
      "        <addr>서울 마포구 포은로 6길 10 망원1동주민센터 옥상</addr>\n",
      "        <stationName>마포구</stationName>\n",
      "        <dmY>37.55561</dmY>\n",
      "      </item>\n",
      "    </items>\n",
      "    <numOfRows>100</numOfRows>\n",
      "    <pageNo>1</pageNo>\n",
      "    <totalCount>1</totalCount>\n",
      "  </body>\n",
      "</response>\n"
     ]
    }
   ],
   "source": [
    "print(response.content.decode(encoding='utf-8')) "
   ]
  },
  {
   "cell_type": "code",
   "execution_count": 34,
   "id": "7bc15eaa",
   "metadata": {},
   "outputs": [],
   "source": [
    "# 필요한 라이브러리 선언\n",
    "import pandas as pd\n",
    "\n",
    "# 문자열을 처리하는 함수\n",
    "def convert_string(item_, key_):\n",
    "    try:\n",
    "        return item.find(key_.lower()).text.strip() # _key를 소문자로 변환하여 검색하고 찾은 값에 양쪽의 공백을 제거한 후 반환\n",
    "    except AttributeError: # item에서 key_를 찾을 수 없는 경우 AttributeError 발생\n",
    "        return None\n",
    "    \n",
    "items = xml.findAll('item') # xml 문서에서 모든 item 요소 찾기\n",
    "item_list = [] #item 요소들을 저장할 목적의 빈 리스트 생성\n",
    "\n",
    "for item in items:\n",
    "    # item 요소에서 필요한 정보를 추출해 해당 정보의 키와 값을 가진 딕셔너리 item_dict를 만듦\n",
    "    # convert_string() 함수를 호출하여 각 요소에서 필요한 정보를 추출하고, 해당 키에 맞게 딕셔너리에 저장\n",
    "    item_dict = {\n",
    "        '측정소명': convert_string(item, 'stationName'),\n",
    "        '측정소 주소' : convert_string(item, 'addr'),\n",
    "        '설치년도' : convert_string(item, 'year'),\n",
    "        '측정망' : convert_string(item, 'mangName'),\n",
    "        '측정항목': convert_string(item, 'item'),\n",
    "        'WGS84 기반 X좌표' : convert_string(item, 'dmX'),\n",
    "        'WGS84 기반 Y좌표' : convert_string(item, 'dmY')\n",
    "\n",
    "    }\n",
    "    item_list.append(item_dict) # 만들어진 item_dict를 item_list에 추가\n",
    "df = pd.DataFrame(item_list) # item_list에 저장된 dict을 이용하여 데이터 프레임 생성\n",
    "\n",
    "df.to_excel(excel_writer=\"./measuring station.xlsx\") # 데이터 프레임을 엑셀 파일로 저장"
   ]
  },
  {
   "cell_type": "code",
   "execution_count": null,
   "id": "d0e558cb",
   "metadata": {},
   "outputs": [],
   "source": []
  }
 ],
 "metadata": {
  "kernelspec": {
   "display_name": "Python 3 (ipykernel)",
   "language": "python",
   "name": "python3"
  },
  "language_info": {
   "codemirror_mode": {
    "name": "ipython",
    "version": 3
   },
   "file_extension": ".py",
   "mimetype": "text/x-python",
   "name": "python",
   "nbconvert_exporter": "python",
   "pygments_lexer": "ipython3",
   "version": "3.10.9"
  }
 },
 "nbformat": 4,
 "nbformat_minor": 5
}
